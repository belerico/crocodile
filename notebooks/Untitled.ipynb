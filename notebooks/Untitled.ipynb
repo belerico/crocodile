{
 "cells": [
  {
   "cell_type": "code",
   "execution_count": 1,
   "id": "d20507d1-3e07-4a85-9101-158448e94d13",
   "metadata": {},
   "outputs": [],
   "source": [
    "from crocodile import Crocodile\n",
    "import os\n",
    "# Create an instance of the Crocodile class\n",
    "# Create an instance of the Crocodile class\n",
    "crocodile_instance = Crocodile(\n",
    "    mongo_uri=\"mongodb://mongodb:27017/\",\n",
    "    db_name=\"crocodile_db\",\n",
    "    table_trace_collection_name=\"table_trace\",\n",
    "    dataset_trace_collection_name=\"dataset_trace\",\n",
    "    max_candidates=3,\n",
    "    entity_retrieval_endpoint=os.environ[\"ENTITY_RETRIEVAL_ENDPOINT\"],  # Access the entity retrieval endpoint directly from environment variables\n",
    "    entity_bow_endpoint=os.environ[\"ENTITY_BOW_ENDPOINT\"],  # Access the entity BoW endpoint directly from environment variables\n",
    "    entity_retrieval_token=os.environ[\"ENTITY_RETRIEVAL_TOKEN\"],  # Access the entity retrieval token directly from environment variables\n",
    "    max_workers=50,\n",
    "    candidate_retrieval_limit=10\n",
    ")"
   ]
  },
  {
   "cell_type": "code",
   "execution_count": 6,
   "id": "394a9e06-61c7-42fc-8ce7-3019fd381b42",
   "metadata": {},
   "outputs": [
    {
     "data": {
      "text/plain": [
       "[{'id': 'Q57710097',\n",
       "  'name': 'Alsaka',\n",
       "  'description': 'family name',\n",
       "  'types': [{'id': 'Q101352', 'name': 'family name'}],\n",
       "  'features': {'ntoken_mention': 1,\n",
       "   'ntoken_entity': 1,\n",
       "   'length_mention': 6,\n",
       "   'length_entity': 6,\n",
       "   'popularity': 0.0,\n",
       "   'ed_score': 1.0,\n",
       "   'jaccard_score': 1.0,\n",
       "   'jaccardNgram_score': 1.0,\n",
       "   'desc': 0.0,\n",
       "   'descNgram': 0.0,\n",
       "   'bow_similarity': 0.0,\n",
       "   'kind': 1,\n",
       "   'NERtype': 4,\n",
       "   'column_NERtype': None}},\n",
       " {'id': 'Q57710056',\n",
       "  'name': 'Yacoub Alsaka',\n",
       "  'description': 'Professor of Engineering, University of Central Florida',\n",
       "  'types': [{'id': 'Q5', 'name': 'human'},\n",
       "   {'id': 'Q1622272', 'name': 'university teacher'}],\n",
       "  'features': {'ntoken_mention': 1,\n",
       "   'ntoken_entity': 2,\n",
       "   'length_mention': 6,\n",
       "   'length_entity': 13,\n",
       "   'popularity': 0.0,\n",
       "   'ed_score': 0.46,\n",
       "   'jaccard_score': 0.5,\n",
       "   'jaccardNgram_score': 0.5,\n",
       "   'desc': 0.0,\n",
       "   'descNgram': 0.0,\n",
       "   'bow_similarity': 0.0,\n",
       "   'kind': 1,\n",
       "   'NERtype': 3,\n",
       "   'column_NERtype': None}},\n",
       " {'id': 'Q61463370',\n",
       "  'name': 'Mineral resources of Alaska : report on progress of investigations in 1911 -- Placer mining and water supply of the Fairbanks, Circle, Fortymile, Eagle, and Seventymile River districts, Alsaka',\n",
       "  'description': 'scholarly article by Clarence E. Ellsworth & E.A. Porter published 1912 in U.S. Geological Survey Bulletin',\n",
       "  'types': [{'id': 'Q13442814', 'name': 'scholarly article'}],\n",
       "  'features': {'ntoken_mention': 1,\n",
       "   'ntoken_entity': 29,\n",
       "   'length_mention': 6,\n",
       "   'length_entity': 192,\n",
       "   'popularity': 0.0,\n",
       "   'ed_score': 0.03,\n",
       "   'jaccard_score': 0.04,\n",
       "   'jaccardNgram_score': 0.04,\n",
       "   'desc': 0.0,\n",
       "   'descNgram': 0.0,\n",
       "   'bow_similarity': 0.0,\n",
       "   'kind': 1,\n",
       "   'NERtype': 4,\n",
       "   'column_NERtype': None}},\n",
       " {'id': 'Q797',\n",
       "  'name': 'Alaska',\n",
       "  'description': 'state of the United States of America',\n",
       "  'types': [{'id': 'Q35657', 'name': 'U.S. state'},\n",
       "   {'id': 'Q933394', 'name': 'exclave'}],\n",
       "  'features': {'ntoken_mention': 1,\n",
       "   'ntoken_entity': 1,\n",
       "   'length_mention': 6,\n",
       "   'length_entity': 6,\n",
       "   'popularity': 0.29,\n",
       "   'ed_score': 0.67,\n",
       "   'jaccard_score': 0.0,\n",
       "   'jaccardNgram_score': 0.0,\n",
       "   'desc': 0.0,\n",
       "   'descNgram': 0.0,\n",
       "   'bow_similarity': 0.0,\n",
       "   'kind': 1,\n",
       "   'NERtype': 1,\n",
       "   'column_NERtype': None}}]"
      ]
     },
     "execution_count": 6,
     "metadata": {},
     "output_type": "execute_result"
    }
   ],
   "source": [
    "crocodile_instance.fetch_candidates(\"alsaka\", \"\", qid=\"Q797\")"
   ]
  },
  {
   "cell_type": "code",
   "execution_count": null,
   "id": "eb4b9884-17d6-4b8d-94d9-cdad02c8b9aa",
   "metadata": {},
   "outputs": [],
   "source": []
  }
 ],
 "metadata": {
  "kernelspec": {
   "display_name": "Python 3 (ipykernel)",
   "language": "python",
   "name": "python3"
  },
  "language_info": {
   "codemirror_mode": {
    "name": "ipython",
    "version": 3
   },
   "file_extension": ".py",
   "mimetype": "text/x-python",
   "name": "python",
   "nbconvert_exporter": "python",
   "pygments_lexer": "ipython3",
   "version": "3.11.6"
  }
 },
 "nbformat": 4,
 "nbformat_minor": 5
}
